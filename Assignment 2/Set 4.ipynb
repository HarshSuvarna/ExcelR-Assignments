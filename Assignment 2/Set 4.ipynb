{
 "cells": [
  {
   "cell_type": "code",
   "execution_count": 2,
   "id": "61ec1bbf",
   "metadata": {},
   "outputs": [],
   "source": [
    "import scipy.stats as st\n",
    "import numpy as np"
   ]
  },
  {
   "cell_type": "code",
   "execution_count": 3,
   "id": "f58c9830",
   "metadata": {},
   "outputs": [],
   "source": [
    "z1 = (45-50)/(40/np.sqrt(100)) #Z-score for $45"
   ]
  },
  {
   "cell_type": "code",
   "execution_count": 5,
   "id": "660785a8",
   "metadata": {},
   "outputs": [],
   "source": [
    "z2 = (55-50)/(40/np.sqrt(100)) #Z-score for $55"
   ]
  },
  {
   "cell_type": "code",
   "execution_count": 9,
   "id": "9a1b6416",
   "metadata": {},
   "outputs": [],
   "source": [
    "prob = st.norm.cdf(z2) - st.norm.cdf(z1) #probability that there wont be an investigation"
   ]
  },
  {
   "cell_type": "code",
   "execution_count": null,
   "id": "30232acc",
   "metadata": {},
   "outputs": [],
   "source": [
    "#probability that there will be an investidation"
   ]
  },
  {
   "cell_type": "code",
   "execution_count": 10,
   "id": "5d33748d",
   "metadata": {},
   "outputs": [
    {
     "data": {
      "text/plain": [
       "0.2112995473337107"
      ]
     },
     "execution_count": 10,
     "metadata": {},
     "output_type": "execute_result"
    }
   ],
   "source": [
    "1-prob"
   ]
  },
  {
   "cell_type": "code",
   "execution_count": null,
   "id": "a0e72c79",
   "metadata": {},
   "outputs": [],
   "source": []
  },
  {
   "cell_type": "code",
   "execution_count": 11,
   "id": "19771966",
   "metadata": {},
   "outputs": [
    {
     "data": {
      "text/plain": [
       "-1.6448536269514729"
      ]
     },
     "execution_count": 11,
     "metadata": {},
     "output_type": "execute_result"
    }
   ],
   "source": [
    "st.norm.ppf(0.05)"
   ]
  },
  {
   "cell_type": "code",
   "execution_count": 13,
   "id": "89163bfc",
   "metadata": {},
   "outputs": [],
   "source": [
    "# (Z * S.D)/sqrt(n)<=5\n",
    "n = ((40*1.96)/5)**2"
   ]
  },
  {
   "cell_type": "code",
   "execution_count": 14,
   "id": "fdfbdb97",
   "metadata": {},
   "outputs": [
    {
     "data": {
      "text/plain": [
       "245.86240000000004"
      ]
     },
     "execution_count": 14,
     "metadata": {},
     "output_type": "execute_result"
    }
   ],
   "source": [
    "n"
   ]
  }
 ],
 "metadata": {
  "kernelspec": {
   "display_name": "Python 3 (ipykernel)",
   "language": "python",
   "name": "python3"
  },
  "language_info": {
   "codemirror_mode": {
    "name": "ipython",
    "version": 3
   },
   "file_extension": ".py",
   "mimetype": "text/x-python",
   "name": "python",
   "nbconvert_exporter": "python",
   "pygments_lexer": "ipython3",
   "version": "3.10.0"
  }
 },
 "nbformat": 4,
 "nbformat_minor": 5
}
