{
 "cells": [
  {
   "cell_type": "code",
   "execution_count": 19,
   "id": "4272e5b9",
   "metadata": {},
   "outputs": [],
   "source": [
    "import scipy.stats as st\n",
    "import numpy as np"
   ]
  },
  {
   "cell_type": "code",
   "execution_count": 2,
   "id": "170ec20d",
   "metadata": {},
   "outputs": [],
   "source": [
    "#Given\n",
    "Mean = 45\n",
    "SD = 8 \n",
    "\n",
    "X = 60-10"
   ]
  },
  {
   "cell_type": "code",
   "execution_count": 3,
   "id": "e36d7c97",
   "metadata": {},
   "outputs": [],
   "source": [
    "#Finding Z score\n",
    "\n",
    "Z = ( X - Mean)/ SD"
   ]
  },
  {
   "cell_type": "code",
   "execution_count": 4,
   "id": "4f6bab87",
   "metadata": {},
   "outputs": [],
   "source": [
    "prob = 1 - st.norm.cdf(Z)"
   ]
  },
  {
   "cell_type": "code",
   "execution_count": 6,
   "id": "f9797ca9",
   "metadata": {},
   "outputs": [
    {
     "name": "stdout",
     "output_type": "stream",
     "text": [
      "The probabililty that the work will not be done in time is 26.6 %\n"
     ]
    }
   ],
   "source": [
    "print('The probabililty that the work will not be done in time is',round(prob*100,2),'%')"
   ]
  },
  {
   "cell_type": "code",
   "execution_count": 10,
   "id": "9f9e32f2",
   "metadata": {},
   "outputs": [
    {
     "data": {
      "text/plain": [
       "0.26598552904870054"
      ]
     },
     "execution_count": 10,
     "metadata": {},
     "output_type": "execute_result"
    }
   ],
   "source": [
    "1 - st.norm.cdf(X, 45, 8) # Alternate method without calculating Z score"
   ]
  },
  {
   "cell_type": "code",
   "execution_count": null,
   "id": "c66a24a9",
   "metadata": {},
   "outputs": [],
   "source": []
  },
  {
   "cell_type": "code",
   "execution_count": null,
   "id": "e32472a0",
   "metadata": {},
   "outputs": [],
   "source": []
  },
  {
   "cell_type": "code",
   "execution_count": null,
   "id": "9ecc2188",
   "metadata": {},
   "outputs": [],
   "source": []
  },
  {
   "cell_type": "code",
   "execution_count": 21,
   "id": "291a2ca1",
   "metadata": {},
   "outputs": [],
   "source": [
    "mu = 38\n",
    "sd = 6\n",
    "N = 400\n",
    "X1 = 44"
   ]
  },
  {
   "cell_type": "code",
   "execution_count": 27,
   "id": "0715efbd",
   "metadata": {},
   "outputs": [],
   "source": [
    "Z2 = (X1 - mu)/sd"
   ]
  },
  {
   "cell_type": "code",
   "execution_count": 29,
   "id": "cfc1e51a",
   "metadata": {},
   "outputs": [],
   "source": [
    "prob = 1 - st.norm.cdf(Z2)"
   ]
  },
  {
   "cell_type": "code",
   "execution_count": 33,
   "id": "50d2b4ad",
   "metadata": {},
   "outputs": [
    {
     "name": "stdout",
     "output_type": "stream",
     "text": [
      "Probability of employees age being more than 44 is 0.15865525393145707\n",
      "Probability of employees age being less than 44 is 0.8413447460685429\n"
     ]
    }
   ],
   "source": [
    "print(\"Probability of employees age being more than 44 is\",prob)\n",
    "print(\"Probability of employees age being less than 44 is\",1-prob)"
   ]
  },
  {
   "cell_type": "code",
   "execution_count": 34,
   "id": "14321fa3",
   "metadata": {},
   "outputs": [
    {
     "name": "stdout",
     "output_type": "stream",
     "text": [
      "Probability of employees age being between 38 and 44 is 0.3413447460685429\n"
     ]
    }
   ],
   "source": [
    "#More employees at the processing center are older than 44 than between 38 and 44.\n",
    "print(\"Probability of employees age being between 38 and 44 is\",(1-prob) - 0.5)"
   ]
  },
  {
   "cell_type": "code",
   "execution_count": 35,
   "id": "8ab56ec0",
   "metadata": {},
   "outputs": [],
   "source": [
    "# Looking at the probability it is clear that probailitly of Employee age being between 38 and 44 is  greater than the probaility of his/her age being greater than 44.The statement is false."
   ]
  },
  {
   "cell_type": "code",
   "execution_count": null,
   "id": "69f1d963",
   "metadata": {},
   "outputs": [],
   "source": []
  },
  {
   "cell_type": "code",
   "execution_count": null,
   "id": "98ac2ef9",
   "metadata": {},
   "outputs": [],
   "source": []
  },
  {
   "cell_type": "code",
   "execution_count": 38,
   "id": "24f5287a",
   "metadata": {},
   "outputs": [
    {
     "data": {
      "text/plain": [
       "-2.575829303548901"
      ]
     },
     "execution_count": 38,
     "metadata": {},
     "output_type": "execute_result"
    }
   ],
   "source": [
    "st.norm.ppf(0.005)"
   ]
  },
  {
   "cell_type": "code",
   "execution_count": 39,
   "id": "b914085f",
   "metadata": {},
   "outputs": [
    {
     "data": {
      "text/plain": [
       "2.5758293035489004"
      ]
     },
     "execution_count": 39,
     "metadata": {},
     "output_type": "execute_result"
    }
   ],
   "source": [
    "st.norm.ppf(0.995)"
   ]
  },
  {
   "cell_type": "code",
   "execution_count": null,
   "id": "a68c0599",
   "metadata": {},
   "outputs": [],
   "source": []
  },
  {
   "cell_type": "code",
   "execution_count": 3,
   "id": "6af25427",
   "metadata": {},
   "outputs": [],
   "source": []
  },
  {
   "cell_type": "code",
   "execution_count": null,
   "id": "a6a1726f",
   "metadata": {},
   "outputs": [],
   "source": []
  },
  {
   "cell_type": "code",
   "execution_count": null,
   "id": "35a50ce5",
   "metadata": {},
   "outputs": [],
   "source": []
  },
  {
   "cell_type": "code",
   "execution_count": null,
   "id": "e81dc49a",
   "metadata": {},
   "outputs": [],
   "source": []
  },
  {
   "cell_type": "code",
   "execution_count": 35,
   "id": "66c3185b",
   "metadata": {},
   "outputs": [
    {
     "data": {
      "text/plain": [
       "(48.48341392902199, 151.516586070978)"
      ]
     },
     "execution_count": 35,
     "metadata": {},
     "output_type": "execute_result"
    }
   ],
   "source": [
    "st.norm.interval(0.99,100,20)"
   ]
  },
  {
   "cell_type": "code",
   "execution_count": null,
   "id": "5c63cdff",
   "metadata": {},
   "outputs": [],
   "source": []
  },
  {
   "cell_type": "code",
   "execution_count": null,
   "id": "b5d0a94a",
   "metadata": {},
   "outputs": [],
   "source": []
  },
  {
   "cell_type": "code",
   "execution_count": null,
   "id": "714c8f75",
   "metadata": {},
   "outputs": [],
   "source": []
  },
  {
   "cell_type": "code",
   "execution_count": null,
   "id": "0f12ae9e",
   "metadata": {},
   "outputs": [],
   "source": []
  },
  {
   "cell_type": "code",
   "execution_count": null,
   "id": "02ff5edb",
   "metadata": {},
   "outputs": [],
   "source": []
  },
  {
   "cell_type": "code",
   "execution_count": null,
   "id": "ede319da",
   "metadata": {},
   "outputs": [],
   "source": []
  },
  {
   "cell_type": "code",
   "execution_count": 36,
   "id": "3afeda33",
   "metadata": {},
   "outputs": [],
   "source": [
    "X2 = 30\n",
    "Z2 = (X2 - mu)/sd"
   ]
  },
  {
   "cell_type": "code",
   "execution_count": 38,
   "id": "34f6c9c4",
   "metadata": {},
   "outputs": [
    {
     "data": {
      "text/plain": [
       "9.121121972586788"
      ]
     },
     "execution_count": 38,
     "metadata": {},
     "output_type": "execute_result"
    }
   ],
   "source": [
    "prob2 = st.norm.cdf(Z2)\n",
    "prob2*100"
   ]
  },
  {
   "cell_type": "code",
   "execution_count": 39,
   "id": "2571719b",
   "metadata": {},
   "outputs": [
    {
     "data": {
      "text/plain": [
       "36.484487890347154"
      ]
     },
     "execution_count": 39,
     "metadata": {},
     "output_type": "execute_result"
    }
   ],
   "source": [
    "# 9.12 percent of 400\n",
    "N*prob2"
   ]
  },
  {
   "cell_type": "code",
   "execution_count": 11,
   "id": "f3c35c6c",
   "metadata": {},
   "outputs": [],
   "source": [
    "#Clearly the statement stands True"
   ]
  },
  {
   "cell_type": "code",
   "execution_count": null,
   "id": "8ce5d5e7",
   "metadata": {},
   "outputs": [],
   "source": []
  },
  {
   "cell_type": "code",
   "execution_count": null,
   "id": "312bda9d",
   "metadata": {},
   "outputs": [],
   "source": []
  },
  {
   "cell_type": "code",
   "execution_count": null,
   "id": "3d3eb166",
   "metadata": {},
   "outputs": [],
   "source": []
  },
  {
   "cell_type": "code",
   "execution_count": null,
   "id": "f79c4e73",
   "metadata": {},
   "outputs": [],
   "source": []
  },
  {
   "cell_type": "code",
   "execution_count": null,
   "id": "922fd462",
   "metadata": {},
   "outputs": [],
   "source": []
  },
  {
   "cell_type": "code",
   "execution_count": 23,
   "id": "0919f608",
   "metadata": {},
   "outputs": [],
   "source": [
    "MEAN = (5+7)*45 #Million Rupees\n",
    "roh = (np.sqrt(9+16))*45  #Million Rupees"
   ]
  },
  {
   "cell_type": "code",
   "execution_count": 34,
   "id": "204d0dbb",
   "metadata": {},
   "outputs": [
    {
     "data": {
      "text/plain": [
       "(99.00810347848784, 980.9918965215122)"
      ]
     },
     "execution_count": 34,
     "metadata": {},
     "output_type": "execute_result"
    }
   ],
   "source": [
    "st.norm.interval(0.95,MEAN, roh)"
   ]
  },
  {
   "cell_type": "code",
   "execution_count": null,
   "id": "8ba2ac00",
   "metadata": {},
   "outputs": [],
   "source": [
    "# The range from Rs 99 to Rs 980 has 95% probability of containing the net profit of the company"
   ]
  },
  {
   "cell_type": "code",
   "execution_count": 40,
   "id": "0eb7a95e",
   "metadata": {},
   "outputs": [
    {
     "data": {
      "text/plain": [
       "1.6448536269514722"
      ]
     },
     "execution_count": 40,
     "metadata": {},
     "output_type": "execute_result"
    }
   ],
   "source": [
    "st.norm.ppf(0.95)"
   ]
  },
  {
   "cell_type": "code",
   "execution_count": 43,
   "id": "c70ebb01",
   "metadata": {},
   "outputs": [
    {
     "data": {
      "text/plain": [
       "-1.9599639845400545"
      ]
     },
     "execution_count": 43,
     "metadata": {},
     "output_type": "execute_result"
    }
   ],
   "source": [
    "st.norm.ppf(0.025)"
   ]
  },
  {
   "cell_type": "code",
   "execution_count": 25,
   "id": "bdd1f71a",
   "metadata": {},
   "outputs": [],
   "source": [
    "#Calculating the Z score at 5th percentile\n",
    "Z3 = st.norm.ppf(0.05)"
   ]
  },
  {
   "cell_type": "code",
   "execution_count": 30,
   "id": "a8c7b969",
   "metadata": {},
   "outputs": [
    {
     "data": {
      "text/plain": [
       "169.9079339359186"
      ]
     },
     "execution_count": 30,
     "metadata": {},
     "output_type": "execute_result"
    }
   ],
   "source": [
    "X = (Z3*roh)+MEAN\n",
    "X"
   ]
  },
  {
   "cell_type": "code",
   "execution_count": 33,
   "id": "04139ecd",
   "metadata": {},
   "outputs": [
    {
     "name": "stdout",
     "output_type": "stream",
     "text": [
      "5th percentile of profit for the company is Rs. 169.9079339359186 Million\n"
     ]
    }
   ],
   "source": [
    "print('5th percentile of profit for the company is Rs.',X,'Million')"
   ]
  },
  {
   "cell_type": "code",
   "execution_count": 12,
   "id": "70b54e5a",
   "metadata": {},
   "outputs": [
    {
     "data": {
      "text/plain": [
       "0.0477903522728147"
      ]
     },
     "execution_count": 12,
     "metadata": {},
     "output_type": "execute_result"
    }
   ],
   "source": [
    "st.norm.cdf(0,5,3)"
   ]
  },
  {
   "cell_type": "code",
   "execution_count": 13,
   "id": "0e67bf72",
   "metadata": {},
   "outputs": [
    {
     "data": {
      "text/plain": [
       "0.040059156863817086"
      ]
     },
     "execution_count": 13,
     "metadata": {},
     "output_type": "execute_result"
    }
   ],
   "source": [
    "st.norm.cdf(0,7,4)"
   ]
  },
  {
   "cell_type": "code",
   "execution_count": null,
   "id": "61c15d3c",
   "metadata": {},
   "outputs": [],
   "source": [
    "# Clearly, division 1 has higher probability of making a loss in a given year"
   ]
  }
 ],
 "metadata": {
  "kernelspec": {
   "display_name": "Python 3 (ipykernel)",
   "language": "python",
   "name": "python3"
  },
  "language_info": {
   "codemirror_mode": {
    "name": "ipython",
    "version": 3
   },
   "file_extension": ".py",
   "mimetype": "text/x-python",
   "name": "python",
   "nbconvert_exporter": "python",
   "pygments_lexer": "ipython3",
   "version": "3.10.0"
  }
 },
 "nbformat": 4,
 "nbformat_minor": 5
}
