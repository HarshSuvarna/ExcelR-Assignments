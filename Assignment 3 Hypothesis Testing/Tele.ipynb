{
 "cells": [
  {
   "cell_type": "code",
   "execution_count": 26,
   "id": "da9ef376",
   "metadata": {},
   "outputs": [],
   "source": [
    "import pandas as pd\n",
    "import numpy as np\n",
    "from scipy import stats as st\n",
    "\n",
    "data= pd.read_csv('Costomer+OrderForm.csv')"
   ]
  },
  {
   "cell_type": "code",
   "execution_count": 21,
   "id": "cb9a4c35",
   "metadata": {},
   "outputs": [],
   "source": [
    "phief = data[data['Phillippines']=='Error Free'].shape[0]\n",
    "phidf = data[data['Phillippines']=='Defective'].shape[0]\n"
   ]
  },
  {
   "cell_type": "code",
   "execution_count": 22,
   "id": "17415dab",
   "metadata": {},
   "outputs": [],
   "source": [
    "indoef = data[data['Indonesia']=='Error Free'].shape[0]\n",
    "indodf = data[data['Indonesia']=='Defective'].shape[0]\n"
   ]
  },
  {
   "cell_type": "code",
   "execution_count": 23,
   "id": "c91edc85",
   "metadata": {},
   "outputs": [],
   "source": [
    "malef = data[data['Malta']=='Error Free'].shape[0]\n",
    "maldf = data[data['Malta']=='Defective'].shape[0]\n"
   ]
  },
  {
   "cell_type": "code",
   "execution_count": 24,
   "id": "9334e896",
   "metadata": {},
   "outputs": [],
   "source": [
    "indef = data[data['India']=='Error Free'].shape[0]\n",
    "inddf = data[data['India']=='Defective'].shape[0]\n"
   ]
  },
  {
   "cell_type": "code",
   "execution_count": 25,
   "id": "ce6cfbce",
   "metadata": {},
   "outputs": [
    {
     "name": "stdout",
     "output_type": "stream",
     "text": [
      "0.2771020991233135\n",
      "accept null hypothesis\n"
     ]
    }
   ],
   "source": [
    "arr_obs_count = np.array([[phief, indoef, malef, indef],[phidf,indodf,maldf,inddf]])\n",
    "chi, pval, dof, ex= st.chi2_contingency(arr_obs_count, correction=False)\n",
    "print(pval)\n",
    "if pval<0.05:\n",
    "    print(\"Reject null hypothesis\")\n",
    "else:\n",
    "    print(\"accept null hypothesis\")"
   ]
  },
  {
   "cell_type": "code",
   "execution_count": null,
   "id": "2b0ba3ad",
   "metadata": {},
   "outputs": [],
   "source": []
  }
 ],
 "metadata": {
  "kernelspec": {
   "display_name": "Python 3 (ipykernel)",
   "language": "python",
   "name": "python3"
  },
  "language_info": {
   "codemirror_mode": {
    "name": "ipython",
    "version": 3
   },
   "file_extension": ".py",
   "mimetype": "text/x-python",
   "name": "python",
   "nbconvert_exporter": "python",
   "pygments_lexer": "ipython3",
   "version": "3.10.0"
  }
 },
 "nbformat": 4,
 "nbformat_minor": 5
}
