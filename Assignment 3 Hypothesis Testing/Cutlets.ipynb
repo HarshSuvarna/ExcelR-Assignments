{
 "cells": [
  {
   "cell_type": "code",
   "execution_count": 16,
   "id": "2d41592e",
   "metadata": {},
   "outputs": [
    {
     "name": "stdout",
     "output_type": "stream",
     "text": [
      "P value:  0.4562300768038412\n",
      "We fail to reject the null Hypothesis\n"
     ]
    }
   ],
   "source": [
    "import pandas as pd\n",
    "import matplotlib.pyplot as plt\n",
    "import scipy.stats as st\n",
    "import seaborn as sns\n",
    "\n",
    "data = pd.read_csv('Cutlets.csv')\n",
    "\n",
    "ttest, pval = st.ttest_rel(data['Unit A'], data['Unit B'])\n",
    "\n",
    "print('P value: ',pval)\n",
    "\n",
    "if pval < 0.05:\n",
    "    print('We reject the null Hypothesis')\n",
    "else:\n",
    "    print('We fail to reject the null Hypothesis')"
   ]
  },
  {
   "cell_type": "code",
   "execution_count": null,
   "id": "1371eebb",
   "metadata": {},
   "outputs": [],
   "source": []
  }
 ],
 "metadata": {
  "kernelspec": {
   "display_name": "Python 3 (ipykernel)",
   "language": "python",
   "name": "python3"
  },
  "language_info": {
   "codemirror_mode": {
    "name": "ipython",
    "version": 3
   },
   "file_extension": ".py",
   "mimetype": "text/x-python",
   "name": "python",
   "nbconvert_exporter": "python",
   "pygments_lexer": "ipython3",
   "version": "3.10.0"
  }
 },
 "nbformat": 4,
 "nbformat_minor": 5
}
