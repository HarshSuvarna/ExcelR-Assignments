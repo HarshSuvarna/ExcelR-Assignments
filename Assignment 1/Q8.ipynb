{
 "cells": [
  {
   "cell_type": "code",
   "execution_count": null,
   "id": "bd3bd255",
   "metadata": {},
   "outputs": [],
   "source": [
    "import pandas as pd"
   ]
  },
  {
   "cell_type": "code",
   "execution_count": null,
   "id": "d2d88784",
   "metadata": {},
   "outputs": [],
   "source": [
    "weight = [108, 110, 123, 134, 135, 145, 167, 187, 199]\n",
    "probab = []"
   ]
  },
  {
   "cell_type": "code",
   "execution_count": null,
   "id": "cb675323",
   "metadata": {},
   "outputs": [],
   "source": [
    "for i in range(len(weight)):\n",
    "    probab.append(weight[i]*(1/9))"
   ]
  },
  {
   "cell_type": "code",
   "execution_count": null,
   "id": "d2570b3e",
   "metadata": {},
   "outputs": [],
   "source": [
    "probab"
   ]
  },
  {
   "cell_type": "code",
   "execution_count": 39,
   "id": "dddf49e6",
   "metadata": {},
   "outputs": [
    {
     "data": {
      "text/plain": [
       "145.33333333333331"
      ]
     },
     "execution_count": 39,
     "metadata": {},
     "output_type": "execute_result"
    }
   ],
   "source": [
    "sum(probab)    "
   ]
  },
  {
   "cell_type": "code",
   "execution_count": 41,
   "id": "41841f7e",
   "metadata": {},
   "outputs": [
    {
     "name": "stdout",
     "output_type": "stream",
     "text": [
      "145.33333333333334\n"
     ]
    }
   ],
   "source": [
    "ros = 0 \n",
    "for i in range(len(weight)):\n",
    "    ros  = ros + weight[i]*1/9\n",
    "print(ros)"
   ]
  }
 ],
 "metadata": {
  "kernelspec": {
   "display_name": "Python 3 (ipykernel)",
   "language": "python",
   "name": "python3"
  },
  "language_info": {
   "codemirror_mode": {
    "name": "ipython",
    "version": 3
   },
   "file_extension": ".py",
   "mimetype": "text/x-python",
   "name": "python",
   "nbconvert_exporter": "python",
   "pygments_lexer": "ipython3",
   "version": "3.10.0"
  }
 },
 "nbformat": 4,
 "nbformat_minor": 5
}
