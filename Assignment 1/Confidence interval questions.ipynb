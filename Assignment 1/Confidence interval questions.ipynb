{
 "cells": [
  {
   "cell_type": "code",
   "execution_count": 2,
   "id": "95b167e4",
   "metadata": {},
   "outputs": [],
   "source": [
    "from scipy import stats\n",
    "from scipy.stats import norm"
   ]
  },
  {
   "cell_type": "code",
   "execution_count": 4,
   "id": "6d33e175",
   "metadata": {},
   "outputs": [
    {
     "data": {
      "text/plain": [
       "(198.738325292158, 201.261674707842)"
      ]
     },
     "execution_count": 4,
     "metadata": {},
     "output_type": "execute_result"
    }
   ],
   "source": [
    "# Average weight of adult in  Mexico with 94% confidence interval\n",
    "stats.norm.interval(0.94,200,30/2000**0.5)"
   ]
  },
  {
   "cell_type": "code",
   "execution_count": 5,
   "id": "02f42e47",
   "metadata": {},
   "outputs": [
    {
     "data": {
      "text/plain": [
       "(198.62230334813333, 201.37769665186667)"
      ]
     },
     "execution_count": 5,
     "metadata": {},
     "output_type": "execute_result"
    }
   ],
   "source": [
    "# Average weight of adult in  Mexico with 94% confidence interval\n",
    "stats.norm.interval(0.96,200,30/2000**0.5)"
   ]
  },
  {
   "cell_type": "code",
   "execution_count": 7,
   "id": "e20aa2de",
   "metadata": {},
   "outputs": [
    {
     "data": {
      "text/plain": [
       "(198.43943840429978, 201.56056159570022)"
      ]
     },
     "execution_count": 7,
     "metadata": {},
     "output_type": "execute_result"
    }
   ],
   "source": [
    "# Average weight of adult in  Mexico with 94% confidence interval\n",
    "stats.norm.interval(0.98,200,30/2000**0.5)"
   ]
  },
  {
   "cell_type": "code",
   "execution_count": null,
   "id": "b1bc1b71",
   "metadata": {},
   "outputs": [],
   "source": []
  },
  {
   "cell_type": "code",
   "execution_count": null,
   "id": "1f9a9e23",
   "metadata": {},
   "outputs": [],
   "source": []
  },
  {
   "cell_type": "code",
   "execution_count": null,
   "id": "971bf902",
   "metadata": {},
   "outputs": [],
   "source": []
  },
  {
   "cell_type": "code",
   "execution_count": null,
   "id": "36c09cff",
   "metadata": {},
   "outputs": [],
   "source": []
  },
  {
   "cell_type": "code",
   "execution_count": null,
   "id": "0e6a2c7c",
   "metadata": {},
   "outputs": [],
   "source": []
  },
  {
   "cell_type": "code",
   "execution_count": null,
   "id": "21f2addc",
   "metadata": {},
   "outputs": [],
   "source": []
  },
  {
   "cell_type": "code",
   "execution_count": 10,
   "id": "3e8fd1c2",
   "metadata": {},
   "outputs": [
    {
     "data": {
      "text/plain": [
       "1.6448536269514722"
      ]
     },
     "execution_count": 10,
     "metadata": {},
     "output_type": "execute_result"
    }
   ],
   "source": [
    "# Z score for 90% confidence interval\n",
    "stats.norm.ppf((1+(90/100))/2)"
   ]
  },
  {
   "cell_type": "code",
   "execution_count": 11,
   "id": "74ec7ead",
   "metadata": {},
   "outputs": [
    {
     "data": {
      "text/plain": [
       "1.8807936081512509"
      ]
     },
     "execution_count": 11,
     "metadata": {},
     "output_type": "execute_result"
    }
   ],
   "source": [
    "# Z score for 94% confidence interval\n",
    "stats.norm.ppf((1+(94/100))/2)"
   ]
  },
  {
   "cell_type": "code",
   "execution_count": 12,
   "id": "871ff1bd",
   "metadata": {},
   "outputs": [
    {
     "data": {
      "text/plain": [
       "0.8416212335729143"
      ]
     },
     "execution_count": 12,
     "metadata": {},
     "output_type": "execute_result"
    }
   ],
   "source": [
    "# Z score for 60% confidence interval\n",
    "stats.norm.ppf((1+(60/100))/2)"
   ]
  },
  {
   "cell_type": "code",
   "execution_count": null,
   "id": "236cc483",
   "metadata": {},
   "outputs": [],
   "source": []
  },
  {
   "cell_type": "code",
   "execution_count": null,
   "id": "870d2fa5",
   "metadata": {},
   "outputs": [],
   "source": []
  },
  {
   "cell_type": "code",
   "execution_count": null,
   "id": "2cf057ec",
   "metadata": {},
   "outputs": [],
   "source": []
  },
  {
   "cell_type": "code",
   "execution_count": 13,
   "id": "42885d77",
   "metadata": {},
   "outputs": [],
   "source": [
    "n=25"
   ]
  },
  {
   "cell_type": "code",
   "execution_count": 15,
   "id": "d2b3bf3e",
   "metadata": {},
   "outputs": [
    {
     "data": {
      "text/plain": [
       "2.0638985616280205"
      ]
     },
     "execution_count": 15,
     "metadata": {},
     "output_type": "execute_result"
    }
   ],
   "source": [
    "# T score for confidence interval 95%\n",
    "stats.t.ppf(1-((100-95)/100)/2, n-1)"
   ]
  },
  {
   "cell_type": "code",
   "execution_count": 16,
   "id": "1bdc01b6",
   "metadata": {},
   "outputs": [
    {
     "data": {
      "text/plain": [
       "2.1715446760080677"
      ]
     },
     "execution_count": 16,
     "metadata": {},
     "output_type": "execute_result"
    }
   ],
   "source": [
    "# T score for confidence interval 96%\n",
    "stats.t.ppf(1-((100-96)/100)/2, n-1)"
   ]
  },
  {
   "cell_type": "code",
   "execution_count": 18,
   "id": "9c97d725",
   "metadata": {},
   "outputs": [
    {
     "data": {
      "text/plain": [
       "2.796939504772804"
      ]
     },
     "execution_count": 18,
     "metadata": {},
     "output_type": "execute_result"
    }
   ],
   "source": [
    "# T score for confidence interval 99%\n",
    "stats.t.ppf(1-((100-99)/100)/2, n-1)"
   ]
  },
  {
   "cell_type": "code",
   "execution_count": null,
   "id": "25dfe8c7",
   "metadata": {},
   "outputs": [],
   "source": []
  },
  {
   "cell_type": "code",
   "execution_count": null,
   "id": "2c91d6d8",
   "metadata": {},
   "outputs": [],
   "source": []
  },
  {
   "cell_type": "code",
   "execution_count": null,
   "id": "2b425dac",
   "metadata": {},
   "outputs": [],
   "source": []
  },
  {
   "cell_type": "code",
   "execution_count": null,
   "id": "a00d25da",
   "metadata": {},
   "outputs": [],
   "source": []
  },
  {
   "cell_type": "code",
   "execution_count": 20,
   "id": "1a340a59",
   "metadata": {},
   "outputs": [],
   "source": [
    "x = 260\n",
    "mu = 270\n",
    "s = 90\n",
    "n = 18"
   ]
  },
  {
   "cell_type": "code",
   "execution_count": 26,
   "id": "2cee224b",
   "metadata": {},
   "outputs": [],
   "source": [
    "t = (x-mu)/(s/n**0.5)"
   ]
  },
  {
   "cell_type": "code",
   "execution_count": 27,
   "id": "51655ad0",
   "metadata": {},
   "outputs": [
    {
     "data": {
      "text/plain": [
       "-0.4714045207910317"
      ]
     },
     "execution_count": 27,
     "metadata": {},
     "output_type": "execute_result"
    }
   ],
   "source": [
    "t"
   ]
  },
  {
   "cell_type": "code",
   "execution_count": 28,
   "id": "af43b888",
   "metadata": {},
   "outputs": [],
   "source": [
    "prob = stats.t.sf(abs(t),df=n-1)"
   ]
  },
  {
   "cell_type": "code",
   "execution_count": 29,
   "id": "493cec26",
   "metadata": {},
   "outputs": [
    {
     "data": {
      "text/plain": [
       "0.32167253567098364"
      ]
     },
     "execution_count": 29,
     "metadata": {},
     "output_type": "execute_result"
    }
   ],
   "source": [
    "prob"
   ]
  }
 ],
 "metadata": {
  "kernelspec": {
   "display_name": "Python 3 (ipykernel)",
   "language": "python",
   "name": "python3"
  },
  "language_info": {
   "codemirror_mode": {
    "name": "ipython",
    "version": 3
   },
   "file_extension": ".py",
   "mimetype": "text/x-python",
   "name": "python",
   "nbconvert_exporter": "python",
   "pygments_lexer": "ipython3",
   "version": "3.10.0"
  }
 },
 "nbformat": 4,
 "nbformat_minor": 5
}
